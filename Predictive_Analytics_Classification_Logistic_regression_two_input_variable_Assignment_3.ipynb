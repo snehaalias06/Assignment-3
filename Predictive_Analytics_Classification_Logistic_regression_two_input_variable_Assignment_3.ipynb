{
  "cells": [
    {
      "cell_type": "markdown",
      "metadata": {
        "id": "c3B3t5rzc9OG"
      },
      "source": [
        "# Question\n",
        "\n",
        "During campus interviews, company XYZ typically evaluates students based on their test scores from the company's assessment, their % of mark, and interview performance. However, moving forward, the company has decided not to interview all students and instead needs to filter candidates before scheduling interviews.\n",
        "\n",
        "The company possesses historical data that includes test scores, CGPA, and selection outcomes for previous candidates. This data will be utilized to predict whether a new candidate, with a specific test score and CGPA, will be selected for an interview or not.\n",
        "\n",
        "Data Set: interviewData.csv"
      ]
    },
    {
      "cell_type": "code",
      "execution_count": 1,
      "metadata": {
        "colab": {
          "base_uri": "https://localhost:8080/",
          "height": 206
        },
        "id": "roEOOdT_XCiT",
        "outputId": "344da62f-5496-414b-d87c-3fe18ba82154"
      },
      "outputs": [
        {
          "data": {
            "text/html": [
              "<div>\n",
              "<style scoped>\n",
              "    .dataframe tbody tr th:only-of-type {\n",
              "        vertical-align: middle;\n",
              "    }\n",
              "\n",
              "    .dataframe tbody tr th {\n",
              "        vertical-align: top;\n",
              "    }\n",
              "\n",
              "    .dataframe thead th {\n",
              "        text-align: right;\n",
              "    }\n",
              "</style>\n",
              "<table border=\"1\" class=\"dataframe\">\n",
              "  <thead>\n",
              "    <tr style=\"text-align: right;\">\n",
              "      <th></th>\n",
              "      <th>Exam Mark</th>\n",
              "      <th>test score</th>\n",
              "      <th>Selection</th>\n",
              "    </tr>\n",
              "  </thead>\n",
              "  <tbody>\n",
              "    <tr>\n",
              "      <th>0</th>\n",
              "      <td>34.623660</td>\n",
              "      <td>78.024693</td>\n",
              "      <td>No</td>\n",
              "    </tr>\n",
              "    <tr>\n",
              "      <th>1</th>\n",
              "      <td>30.286711</td>\n",
              "      <td>43.894998</td>\n",
              "      <td>No</td>\n",
              "    </tr>\n",
              "    <tr>\n",
              "      <th>2</th>\n",
              "      <td>35.847409</td>\n",
              "      <td>72.902198</td>\n",
              "      <td>No</td>\n",
              "    </tr>\n",
              "    <tr>\n",
              "      <th>3</th>\n",
              "      <td>60.182599</td>\n",
              "      <td>86.308552</td>\n",
              "      <td>Yes</td>\n",
              "    </tr>\n",
              "    <tr>\n",
              "      <th>4</th>\n",
              "      <td>79.032736</td>\n",
              "      <td>75.344376</td>\n",
              "      <td>Yes</td>\n",
              "    </tr>\n",
              "  </tbody>\n",
              "</table>\n",
              "</div>"
            ],
            "text/plain": [
              "   Exam Mark  test score Selection\n",
              "0  34.623660   78.024693        No\n",
              "1  30.286711   43.894998        No\n",
              "2  35.847409   72.902198        No\n",
              "3  60.182599   86.308552       Yes\n",
              "4  79.032736   75.344376       Yes"
            ]
          },
          "execution_count": 1,
          "metadata": {},
          "output_type": "execute_result"
        }
      ],
      "source": [
        "import pandas as pd\n",
        "import numpy as np\n",
        "import matplotlib.pyplot as plt\n",
        "\n",
        "df = pd.read_csv('interviewData.csv',header=None)\n",
        "df.columns = ['Exam Mark','test score','Selection']\n",
        "df.head()"
      ]
    },
    {
      "cell_type": "markdown",
      "metadata": {
        "id": "01iK500VmXtH"
      },
      "source": [
        "## Exploratory data analysis\n"
      ]
    },
    {
      "cell_type": "markdown",
      "metadata": {
        "id": "-GCJnRf7Chaz"
      },
      "source": [
        "**Answer the following:**\n",
        "* What is your target variable?\n",
        "> * Selection\n",
        "* Do you need to encode the target variable (Yes/No)?\n",
        "> * Yes\n",
        "* If yes, briefly explain why you need to encode the target variable.\n",
        "> * The target variable is categorical data, we need to convert it into numerical data to create machine learning models.\n",
        "* Consider the encoding methods: One-hot encoding, Binary encoding, and Label Encoding. Which one do you apply in this case?\n",
        "> * Label encoding\n",
        "* Explain why you have selected the above encoding method.\n",
        "> * Here the \"selection\" column has only two unique values (Yes and No), which makes it a binary classification problem. Label Encoding converts these binary categories into numerical values (typically 0 and 1), which is straightforward and sufficient for this type of data.\n",
        "\n",
        "Read the following article\n",
        "\n",
        "https://medium.com/@swayampatil7918/exploring-different-encoding-techniques-for-machine-learning-models-b762e3b546db"
      ]
    },
    {
      "cell_type": "code",
      "execution_count": 7,
      "metadata": {
        "colab": {
          "base_uri": "https://localhost:8080/",
          "height": 423
        },
        "id": "AcBqbrVKCpi8",
        "outputId": "610283a8-da91-4efd-ce85-68ade3d0bf8a"
      },
      "outputs": [
        {
          "data": {
            "text/html": [
              "<div>\n",
              "<style scoped>\n",
              "    .dataframe tbody tr th:only-of-type {\n",
              "        vertical-align: middle;\n",
              "    }\n",
              "\n",
              "    .dataframe tbody tr th {\n",
              "        vertical-align: top;\n",
              "    }\n",
              "\n",
              "    .dataframe thead th {\n",
              "        text-align: right;\n",
              "    }\n",
              "</style>\n",
              "<table border=\"1\" class=\"dataframe\">\n",
              "  <thead>\n",
              "    <tr style=\"text-align: right;\">\n",
              "      <th></th>\n",
              "      <th>Exam Mark</th>\n",
              "      <th>test score</th>\n",
              "      <th>Selection</th>\n",
              "    </tr>\n",
              "  </thead>\n",
              "  <tbody>\n",
              "    <tr>\n",
              "      <th>0</th>\n",
              "      <td>34.623660</td>\n",
              "      <td>78.024693</td>\n",
              "      <td>0</td>\n",
              "    </tr>\n",
              "    <tr>\n",
              "      <th>1</th>\n",
              "      <td>30.286711</td>\n",
              "      <td>43.894998</td>\n",
              "      <td>0</td>\n",
              "    </tr>\n",
              "    <tr>\n",
              "      <th>2</th>\n",
              "      <td>35.847409</td>\n",
              "      <td>72.902198</td>\n",
              "      <td>0</td>\n",
              "    </tr>\n",
              "    <tr>\n",
              "      <th>3</th>\n",
              "      <td>60.182599</td>\n",
              "      <td>86.308552</td>\n",
              "      <td>1</td>\n",
              "    </tr>\n",
              "    <tr>\n",
              "      <th>4</th>\n",
              "      <td>79.032736</td>\n",
              "      <td>75.344376</td>\n",
              "      <td>1</td>\n",
              "    </tr>\n",
              "    <tr>\n",
              "      <th>...</th>\n",
              "      <td>...</td>\n",
              "      <td>...</td>\n",
              "      <td>...</td>\n",
              "    </tr>\n",
              "    <tr>\n",
              "      <th>95</th>\n",
              "      <td>83.489163</td>\n",
              "      <td>48.380286</td>\n",
              "      <td>1</td>\n",
              "    </tr>\n",
              "    <tr>\n",
              "      <th>96</th>\n",
              "      <td>42.261701</td>\n",
              "      <td>87.103851</td>\n",
              "      <td>1</td>\n",
              "    </tr>\n",
              "    <tr>\n",
              "      <th>97</th>\n",
              "      <td>99.315009</td>\n",
              "      <td>68.775409</td>\n",
              "      <td>1</td>\n",
              "    </tr>\n",
              "    <tr>\n",
              "      <th>98</th>\n",
              "      <td>55.340018</td>\n",
              "      <td>64.931938</td>\n",
              "      <td>1</td>\n",
              "    </tr>\n",
              "    <tr>\n",
              "      <th>99</th>\n",
              "      <td>74.775893</td>\n",
              "      <td>89.529813</td>\n",
              "      <td>1</td>\n",
              "    </tr>\n",
              "  </tbody>\n",
              "</table>\n",
              "<p>100 rows × 3 columns</p>\n",
              "</div>"
            ],
            "text/plain": [
              "    Exam Mark  test score  Selection\n",
              "0   34.623660   78.024693          0\n",
              "1   30.286711   43.894998          0\n",
              "2   35.847409   72.902198          0\n",
              "3   60.182599   86.308552          1\n",
              "4   79.032736   75.344376          1\n",
              "..        ...         ...        ...\n",
              "95  83.489163   48.380286          1\n",
              "96  42.261701   87.103851          1\n",
              "97  99.315009   68.775409          1\n",
              "98  55.340018   64.931938          1\n",
              "99  74.775893   89.529813          1\n",
              "\n",
              "[100 rows x 3 columns]"
            ]
          },
          "metadata": {},
          "output_type": "display_data"
        }
      ],
      "source": [
        "# Create a new dataset by apply the encoding  method selected above on the dataset\n",
        "\n",
        "# Read this to implement this part\n",
        "#  https://scikit-learn.org/stable/modules/classes.html#module-sklearn.preprocessing\n",
        "\n",
        "\n",
        "from sklearn.preprocessing import LabelEncoder\n",
        "\n",
        "# Select the appropriate encode\n",
        "# Initialize LabelEncoder\n",
        "label_encoder = LabelEncoder()\n",
        "\n",
        "# Transform the target variable\n",
        "df['Selection'] = label_encoder.fit_transform(df['Selection'])\n",
        "\n",
        "# Display the transformed DataFrame\n",
        "\n",
        "display(df)\n",
        "\n",
        "\n"
      ]
    },
    {
      "cell_type": "code",
      "execution_count": 8,
      "metadata": {
        "colab": {
          "base_uri": "https://localhost:8080/",
          "height": 466
        },
        "id": "QnZS80GHY09c",
        "outputId": "1966d609-db57-43ac-d448-ec3f9609e970"
      },
      "outputs": [
        {
          "data": {
            "image/png": "[encoded data removed]",
            "text/plain": [
              "<Figure size 640x480 with 1 Axes>"
            ]
          },
          "metadata": {},
          "output_type": "display_data"
        }
      ],
      "source": [
        "# Wrie a code to visualize your data\n",
        "# See https://seaborn.pydata.org/generated/seaborn.scatterplot.html\n",
        "\n",
        "import seaborn as sns\n",
        "# Scatter plot\n",
        "sns.scatterplot(data=df, x='Exam Mark', y='test score', hue='Selection')\n",
        "\n",
        "# Display the plot\n",
        "plt.show()\n",
        "\n"
      ]
    },
    {
      "cell_type": "markdown",
      "metadata": {
        "id": "qbX_C2GMg0a6"
      },
      "source": [
        "## Logistic Regression Model\n",
        "\n",
        "logistic regression model applies the sigmoid to the familiar linear regression model as shown below:\n",
        "\n",
        "$$ \\hat y_{\\mathbf{w},b}(\\mathbf{x}^{(i)}) = g(\\mathbf{w} \\cdot \\mathbf{x}^{(i)} + b ) $$\n",
        "\n",
        "  where\n",
        "\n",
        "  $$g(z) = \\frac{1}{1+e^{-z}}$$\n",
        "\n",
        "That is\n",
        "$$\\hat y_{\\mathbf{w},b}(\\mathbf{x}^{(i)}) = \\frac{1}{1+e^{-(\\mathbf{w} \\cdot \\mathbf{x}^{(i)} + b )}}$$"
      ]
    },
    {
      "cell_type": "code",
      "execution_count": 32,
      "metadata": {
        "id": "--1_CczfgCi5"
      },
      "outputs": [],
      "source": [
        "# Write a function 'predict' to compute the logistic Regression model\n",
        "import numpy as np\n",
        "def Sigmoid(z):\n",
        "  return 1 / (1 + np.exp(-z))\n",
        "\n",
        "def predict(w,b,x):\n",
        "   z = np.dot(x, w) + b\n",
        "   return Sigmoid(z)"
      ]
    },
    {
      "cell_type": "markdown",
      "metadata": {
        "id": "iI9R7eivkXg4"
      },
      "source": [
        "### Answer the following\n",
        "\n",
        "\n",
        "* Can you use mean squared error as the cost function (Yes/No)?\n",
        "> * No\n",
        "* Explain why you said yes or no to the above questions.\n",
        "> * As it is a binary classification problem,MSE is not suitable.MSE is suitable for regression problems where we have to predict continuous values."
      ]
    },
    {
      "cell_type": "markdown",
      "metadata": {
        "id": "FLKSX86XkusP"
      },
      "source": [
        "### Log Loss/ Sigmoid Cross Entropy for Logistic regression\n",
        "\n",
        "     \n"
      ]
    },
    {
      "cell_type": "markdown",
      "metadata": {
        "id": "sOwctTQJlV7-"
      },
      "source": [
        "$$ loss(\\hat y_{\\mathbf{w},b}(\\mathbf{x}^{(i)}), y^{(i)}) = (-y^{(i)} \\log\\left(\\hat y_{\\mathbf{w},b}\\left( \\mathbf{x}^{(i)} \\right) \\right) - \\left( 1 - y^{(i)}\\right) \\log \\left( 1 - \\hat y_{\\mathbf{w},b}\\left( \\mathbf{x}^{(i)} \\right) \\right) $$"
      ]
    },
    {
      "cell_type": "markdown",
      "metadata": {
        "id": "RCfF0UxilNqZ"
      },
      "source": [
        "### Cost function\n"
      ]
    },
    {
      "cell_type": "markdown",
      "metadata": {
        "id": "llzH4Ji1mbUc"
      },
      "source": [
        "$$ J(\\mathbf{w},b) = \\frac{1}{m} \\sum_{i=0}^{m-1} \\left[ loss(\\hat y_{\\mathbf{w},b}(\\mathbf{x}^{(i)}), y^{(i)}) \\right]$$"
      ]
    },
    {
      "cell_type": "markdown",
      "metadata": {
        "id": "ITvwBBAOlmeJ"
      },
      "source": [
        "### Answer the following\n",
        "\n",
        "\n",
        "* What is a loss function?\n",
        "> * Loss function calculates the error between a model's prediction and the actual target value for a single data point.\n",
        "* What is a cost function?\n",
        "> * A cost function measures the discrepancy between predicted outcomes and actual outcomes across all data points in a dataset.\n",
        "* What is the distinction between them?\n",
        "> * Loss function measures the error for a single prediction, while a cost function computes the average error across all predictions in a dataset."
      ]
    },
    {
      "cell_type": "markdown",
      "metadata": {
        "id": "H2cz2kAUnAvv"
      },
      "source": [
        "### Derivative of the cost function with respect to weights"
      ]
    },
    {
      "cell_type": "markdown",
      "metadata": {
        "id": "AZuBwEDHnHh9"
      },
      "source": [
        "Type here the formulas to compute the derivatives of the const function with respect to $w_1$, $w_2$ and b"
      ]
    },
    {
      "cell_type": "code",
      "execution_count": 30,
      "metadata": {
        "id": "AlGq3F_Une2i"
      },
      "outputs": [],
      "source": [
        "# write a function to estimate the derivatives of the cost function\n",
        "\n",
        "def compute_cost(w, b, x, y):\n",
        " \n",
        "    m = len(y)\n",
        "    predictions = predict(w, b, x)\n",
        "    cost = -1/m * np.sum(y * np.log(predictions) + (1 - y) * np.log(1 - predictions))\n",
        "    return cost\n",
        "\n",
        "\n",
        "def compute_gradient_wb(w, b, x, y):\n",
        "    \n",
        "    m = len(y)\n",
        "    predictions = predict(w, b, x)\n",
        "    dz = predictions - y\n",
        "    dw = 1/m * np.dot(x.T, dz)\n",
        "    db = 1/m * np.sum(dz)\n",
        "    return dw, db"
      ]
    },
    {
      "cell_type": "markdown",
      "metadata": {
        "id": "eXGKItwDnuHw"
      },
      "source": [
        "### Gradient Descent Algorithm"
      ]
    },
    {
      "cell_type": "markdown",
      "metadata": {
        "id": "x6XMgkr3nt0b"
      },
      "source": [
        "$$\\begin{align*}\n",
        "&\\text{repeat until convergence:} \\; \\lbrace \\\\\n",
        "&  \\; \\; \\;w_j = w_j -  \\alpha \\frac{\\partial J(\\mathbf{w},b)}{\\partial w_j}   \\; & \\text{for j := 0..n-1} \\\\\n",
        "&  \\; \\; \\;  \\; \\;b = b -  \\alpha \\frac{\\partial J(\\mathbf{w},b)}{\\partial b} \\\\\n",
        "&\\rbrace\n",
        "\\end{align*}$$"
      ]
    },
    {
      "cell_type": "code",
      "execution_count": 42,
      "metadata": {
        "id": "sA17QN7bkuAD"
      },
      "outputs": [],
      "source": [
        "# Write a function to perform the gradient decent\n",
        "\n",
        "def gradient_descent(w, b, X_train, X_test, y_train, y_test, alpha, num_iter):\n",
        "\n",
        "    train_costs = []\n",
        "    test_costs = []\n",
        "    for i in range(num_iter):\n",
        "        # Compute gradients\n",
        "        dw, db = compute_gradient_wb(w, b, X_train, y_train)\n",
        "        \n",
        "        # Update weights and bias\n",
        "        w -= alpha * dw\n",
        "        b -= alpha * db\n",
        "        \n",
        "        # Compute training and testing costs and append to lists\n",
        "        train_cost = compute_cost(w, b, X_train, y_train)\n",
        "        test_cost = compute_cost(w, b, X_test, y_test)\n",
        "        train_costs.append(train_cost)\n",
        "        test_costs.append(test_cost)\n",
        "        \n",
        "        # Print cost every 100 iterations\n",
        "        if i % 100 == 0:\n",
        "            print(f\"Iteration {i}: Training Cost = {train_cost}, Testing Cost = {test_cost}\")\n",
        "\n",
        "    return w, b, train_costs, test_costs"
      ]
    },
    {
      "cell_type": "markdown",
      "metadata": {
        "id": "i7mwC8TwoLn7"
      },
      "source": [
        "## Model Training"
      ]
    },
    {
      "cell_type": "code",
      "execution_count": 43,
      "metadata": {
        "id": "Yzc-FShlkK4n"
      },
      "outputs": [
        {
          "name": "stdout",
          "output_type": "stream",
          "text": [
            "Iteration 0: Training Cost = nan, Testing Cost = nan\n",
            "Iteration 100: Training Cost = 0.28095333433246433, Testing Cost = 0.3229151998773334\n",
            "Iteration 200: Training Cost = 0.28060072375033107, Testing Cost = 0.3181380008805095\n",
            "Iteration 300: Training Cost = 0.2805744305854839, Testing Cost = 0.3181028286345674\n",
            "Iteration 400: Training Cost = 0.2805481542307871, Testing Cost = 0.31807703457991665\n",
            "Iteration 500: Training Cost = 0.28052189311536874, Testing Cost = 0.31805127449731635\n",
            "Iteration 600: Training Cost = 0.28049564722585296, Testing Cost = 0.3180255279342417\n",
            "Iteration 700: Training Cost = 0.28046941654888713, Testing Cost = 0.31799979483493007\n",
            "Iteration 800: Training Cost = 0.28044320107113435, Testing Cost = 0.3179740751882816\n",
            "Iteration 900: Training Cost = 0.2804170007792735, Testing Cost = 0.3179483689833057\n",
            "Final parameters: w:[0.07513002 0.07452662], b:-9.025639711627608\n"
          ]
        },
        {
          "name": "stderr",
          "output_type": "stream",
          "text": [
            "C:\\Users\\alias\\AppData\\Local\\Temp\\ipykernel_6496\\3670495147.py:7: RuntimeWarning: divide by zero encountered in log\n",
            "  cost = -1/m * np.sum(y * np.log(predictions) + (1 - y) * np.log(1 - predictions))\n",
            "C:\\Users\\alias\\AppData\\Local\\Temp\\ipykernel_6496\\3670495147.py:7: RuntimeWarning: invalid value encountered in multiply\n",
            "  cost = -1/m * np.sum(y * np.log(predictions) + (1 - y) * np.log(1 - predictions))\n"
          ]
        }
      ],
      "source": [
        "# Write the code to train the model\n",
        "\n",
        "# Split the data into train and test datasets using\n",
        "# see https://scikit-learn.org/stable/modules/generated/sklearn.model_selection.train_test_split.html\n",
        "from sklearn.model_selection import train_test_split\n",
        "\n",
        "\n",
        "X = df.iloc[:, :-1].values\n",
        "y = df.iloc[:, -1].values\n",
        "\n",
        "X_train, X_test, y_train, y_test = train_test_split(X, y, test_size=0.2, random_state=50)\n",
        "\n",
        "np.random.seed(1)\n",
        "w_ini = np.random.rand(2)\n",
        "b_ini = -9\n",
        "\n",
        "alpha = 0.001\n",
        "\n",
        "num_iter = 1000\n",
        "\n",
        "w_opt, b_opt, train_costs, test_costs = gradient_descent(w_ini, b_ini, X_train, X_test, y_train, y_test, alpha, num_iter)\n",
        "\n",
        "print(f\"Final parameters: w:{w_opt}, b:{b_opt}\")"
      ]
    },
    {
      "cell_type": "code",
      "execution_count": 44,
      "metadata": {
        "id": "JwQvMVrhqs8K"
      },
      "outputs": [
        {
          "data": {
            "image/png": "[encoded data removed]",
            "text/plain": [
              "<Figure size 640x480 with 1 Axes>"
            ]
          },
          "metadata": {},
          "output_type": "display_data"
        }
      ],
      "source": [
        "# Plot the train and test loss in one plot\n",
        "import matplotlib.pyplot as plt\n",
        "\n",
        "# Plot the train and test loss\n",
        "plt.plot(range(num_iter), train_costs, label='Train Loss')\n",
        "plt.plot(range(num_iter), test_costs, label='Test Loss')\n",
        "plt.xlabel('Iterations')\n",
        "plt.ylabel('Loss')\n",
        "plt.title('Train and Test Loss')\n",
        "plt.legend()\n",
        "plt.show()"
      ]
    },
    {
      "cell_type": "code",
      "execution_count": 48,
      "metadata": {
        "colab": {
          "base_uri": "https://localhost:8080/",
          "height": 472
        },
        "id": "lPFsEO_5vDdc",
        "outputId": "6e266b6a-2bbb-4a7c-a14c-96ebef375392"
      },
      "outputs": [
        {
          "data": {
            "image/png": "[encoded data removed]",
            "text/plain": [
              "<Figure size 640x480 with 1 Axes>"
            ]
          },
          "metadata": {},
          "output_type": "display_data"
        }
      ],
      "source": [
        "#  plot the Logistic Regression Model for the estimated w and b values\n",
        "\n",
        "P = 0.5 # the boundary seperation value (probability)\n",
        "\n",
        "# Generate sample points in the domain 30 to 100\n",
        "u = np.linspace(30, 100, 50)\n",
        "v = np.linspace(30, 100, 50)\n",
        "\n",
        "# making it into 2D mesh\n",
        "X, Y = np.meshgrid(u, v)\n",
        "logReg = np.zeros((len(u), len(v)))\n",
        "\n",
        "# Predict the result of the (u,v) pair data with the estimated w and b values\n",
        "for i in range(len(u)):\n",
        "    for j in range(len(v)):\n",
        "        zz = X[i,j]*w_opt[0] + Y[i,j]*w_opt[1] + b_opt\n",
        "        logReg[i,j] = 1 / (1 + np.exp(-zz))\n",
        "\n",
        "\n",
        "plt.contour(u,v,logReg, levels = [P], colors=\"g\" )\n",
        "\n",
        "# to see the full function plot in the domain\n",
        "# plt.contourf(u,v,logReg)\n",
        "\n",
        "# Plot the real data\n",
        "sns.scatterplot(df,x = 'Exam Mark',y='test score',hue ='Selection')\n",
        "plt.xlabel('Exam Mark')\n",
        "plt.ylabel('Test Score')\n",
        "plt.title('Logistic Regression Model')\n",
        "plt.legend(title='Selection', loc='upper left')\n",
        "plt.show()\n"
      ]
    },
    {
      "cell_type": "markdown",
      "metadata": {
        "id": "mZs85GzXoUUD"
      },
      "source": [
        "### Answer the following\n",
        "\n",
        "\n",
        "* What does the P value signify in the provided code?\n",
        "> *The P value signifies the threshold probability used to define the decision boundary in logistic regression.\n",
        "* How will altering the P value affect the outcome?\n",
        "> * Altering the P value will change the position of the decision boundary, thereby affecting how data points are classified as positive or negative.\n",
        "* What range of values can P encompass?\n",
        "> * The P value can range from 0 to 1 as it is probability.\n",
        "* Describe the importance of the P value in a project aimed at classifying tumors as malignant or benign.\n",
        "> * In a project aimed at classifying tumors as malignant or benign, the P value serves as the critical threshold for determining the probability at which a tumor is classified as malignant."
      ]
    },
    {
      "cell_type": "markdown",
      "metadata": {
        "id": "fxrRUraGrTAZ"
      },
      "source": [
        "### Imagine a scenario where a student scores 65 marks in both the Exam and Test. Use your model to predict whether the student will pass the interview or not."
      ]
    },
    {
      "cell_type": "code",
      "execution_count": 49,
      "metadata": {
        "id": "UG18sSivsBY-"
      },
      "outputs": [
        {
          "name": "stdout",
          "output_type": "stream",
          "text": [
            "The probability of passing the interview: 0.6686402966922042\n",
            "The student will pass the interview.\n"
          ]
        }
      ],
      "source": [
        "# Your code\n",
        "exam_score = 65\n",
        "test_score = 65\n",
        "\n",
        "# Predicting the probability of passing the interview\n",
        "student_scores = np.array([[exam_score, test_score]])\n",
        "pass_probability = predict(w_opt, b_opt, student_scores)\n",
        "\n",
        "# Convert the probability to a class label\n",
        "pass_label = 'Yes' if pass_probability >= 0.5 else 'No'\n",
        "\n",
        "print(f\"The probability of passing the interview: {pass_probability[0]}\")\n",
        "print(f\"The student will {'pass' if pass_label == 'Yes' else 'not pass'} the interview.\")"
      ]
    }
  ],
  "metadata": {
    "colab": {
      "provenance": []
    },
    "kernelspec": {
      "display_name": "Python 3",
      "name": "python3"
    },
    "language_info": {
      "codemirror_mode": {
        "name": "ipython",
        "version": 3
      },
      "file_extension": ".py",
      "mimetype": "text/x-python",
      "name": "python",
      "nbconvert_exporter": "python",
      "pygments_lexer": "ipython3",
      "version": "3.11.7"
    }
  },
  "nbformat": 4,
  "nbformat_minor": 0
}
